{
 "cells": [
  {
   "cell_type": "markdown",
   "source": [
    "In this notebook I'll reconstruct the process and results of the DTCR algorithm presented in the \"Learning Representations for Time Series Clustering\"."
   ],
   "metadata": {}
  },
  {
   "cell_type": "code",
   "execution_count": 6,
   "source": [
    "# Imports\r\n",
    "import torch\r\n",
    "from torch.utils.data import DataLoader\r\n",
    "from Utilities.DTCR import DTCRModel, DTCRConfig\r\n",
    "from Utilities.UCRParser import read_dataset"
   ],
   "outputs": [],
   "metadata": {}
  },
  {
   "cell_type": "code",
   "execution_count": 7,
   "source": [
    "testing_dataset = \"Symbols\"\r\n",
    "train_ds, test_ds = read_dataset(testing_dataset)\r\n",
    "\r\n",
    "config = DTCRConfig()\r\n",
    "config.class_num = train_ds.number_of_labels\r\n",
    "config.input_size = train_ds[0][0].shape[1]\r\n",
    "config.num_steps = train_ds[0][0].shape[0]\r\n",
    "config.model_name = testing_dataset\r\n",
    "config.batch_size = len(train_ds)\r\n",
    "\r\n",
    "config.learning_rate = 5e-3\r\n",
    "config.checkpoint_interval = 15\r\n",
    "config.hidden_size = [50, 30, 30]\r\n",
    "config.dilations = [1, 4, 16]\r\n",
    "config.coefficient_lambda = 1\r\n",
    "\r\n",
    "train_dl = DataLoader(train_ds, batch_size=config.batch_size, shuffle=True, drop_last=True)\r\n",
    "test_dl = DataLoader(test_ds, batch_size=len(test_ds), shuffle=True)"
   ],
   "outputs": [
    {
     "output_type": "stream",
     "name": "stdout",
     "text": [
      "Loading the Two_Patterns dataset...\n",
      "The dataset Two_Patterns was loaded.\n"
     ]
    }
   ],
   "metadata": {}
  },
  {
   "cell_type": "code",
   "execution_count": 8,
   "source": [
    "dtcr_model = DTCRModel(config)\r\n",
    "dtcr_model"
   ],
   "outputs": [
    {
     "output_type": "execute_result",
     "data": {
      "text/plain": [
       "DTCRModel(\n",
       "  (encoder): BidirectionalDRNN(\n",
       "    (_regular_drnn): DRNN(\n",
       "      (_layers): Sequential(\n",
       "        (0): GRU(1, 50, batch_first=True)\n",
       "        (1): GRU(50, 30, batch_first=True)\n",
       "        (2): GRU(30, 30, batch_first=True)\n",
       "      )\n",
       "    )\n",
       "    (_backwards_drnn): DRNN(\n",
       "      (_layers): Sequential(\n",
       "        (0): GRU(1, 50, batch_first=True)\n",
       "        (1): GRU(50, 30, batch_first=True)\n",
       "        (2): GRU(30, 30, batch_first=True)\n",
       "      )\n",
       "    )\n",
       "  )\n",
       "  (decoder): DTCRDecoder(\n",
       "    (_rnn): GRU(220, 220, batch_first=True)\n",
       "    (_linear): Linear(in_features=220, out_features=1, bias=True)\n",
       "  )\n",
       "  (classifier): Sequential(\n",
       "    (0): Linear(in_features=220, out_features=128, bias=True)\n",
       "    (1): ReLU()\n",
       "    (2): Linear(in_features=128, out_features=2, bias=True)\n",
       "    (3): Softmax(dim=1)\n",
       "  )\n",
       ")"
      ]
     },
     "metadata": {},
     "execution_count": 8
    }
   ],
   "metadata": {}
  },
  {
   "cell_type": "code",
   "execution_count": 9,
   "source": [
    "# if you want to continue the training load the model here from the checkpoint\r\n",
    "# dtcr_model = torch.load(\"Checkpoints/ECGFiveDays_900\")\r\n",
    "recons_criterion = config.decoding_criterion()\r\n",
    "classify_criterion = config.classifier_criterion()\r\n",
    "optimizer = config.optimizer(dtcr_model.parameters(),\r\n",
    "                             eps=config.learning_rate)"
   ],
   "outputs": [],
   "metadata": {}
  },
  {
   "cell_type": "code",
   "execution_count": 10,
   "source": [
    "epochs = 1000\r\n",
    "for epoch in range(dtcr_model._training_iteration, epochs):\r\n",
    "    print(\"Starting epoch {}:\".format(epoch + 1))\r\n",
    "    dtcr_model.train_step(train_dl, test_dl, recons_criterion, classify_criterion,\r\n",
    "                          optimizer)"
   ],
   "outputs": [
    {
     "output_type": "stream",
     "name": "stdout",
     "text": [
      "Starting epoch 1:\n",
      "[1|1] loss: 3978.9307, classify: 0.69324,recons: 0.99303, clustering: 3977.24438\n",
      "Starting epoch 2:\n",
      "[2|1] loss: 3534.0952, classify: 0.69321,recons: 0.99227, clustering: 3532.40967\n",
      "Starting epoch 3:\n",
      "[3|1] loss: 3161.3992, classify: 0.69326,recons: 0.99210, clustering: 3159.71387\n",
      "Starting epoch 4:\n",
      "[4|1] loss: 2846.3457, classify: 0.69320,recons: 0.99218, clustering: 2844.66040\n",
      "Starting epoch 5:\n",
      "[5|1] loss: 2580.3909, classify: 0.69318,recons: 0.99228, clustering: 2578.70532\n",
      "Starting epoch 6:\n",
      "[6|1] loss: 2354.8247, classify: 0.69316,recons: 0.99232, clustering: 2353.13916\n",
      "Starting epoch 7:\n"
     ]
    },
    {
     "output_type": "error",
     "ename": "KeyboardInterrupt",
     "evalue": "",
     "traceback": [
      "\u001b[1;31m---------------------------------------------------------------------------\u001b[0m",
      "\u001b[1;31mKeyboardInterrupt\u001b[0m                         Traceback (most recent call last)",
      "\u001b[1;32m~\\AppData\\Local\\Temp/ipykernel_16768/468687486.py\u001b[0m in \u001b[0;36m<module>\u001b[1;34m\u001b[0m\n\u001b[0;32m      2\u001b[0m \u001b[1;32mfor\u001b[0m \u001b[0mepoch\u001b[0m \u001b[1;32min\u001b[0m \u001b[0mrange\u001b[0m\u001b[1;33m(\u001b[0m\u001b[0mdtcr_model\u001b[0m\u001b[1;33m.\u001b[0m\u001b[0m_training_iteration\u001b[0m\u001b[1;33m,\u001b[0m \u001b[0mepochs\u001b[0m\u001b[1;33m)\u001b[0m\u001b[1;33m:\u001b[0m\u001b[1;33m\u001b[0m\u001b[1;33m\u001b[0m\u001b[0m\n\u001b[0;32m      3\u001b[0m     \u001b[0mprint\u001b[0m\u001b[1;33m(\u001b[0m\u001b[1;34m\"Starting epoch {}:\"\u001b[0m\u001b[1;33m.\u001b[0m\u001b[0mformat\u001b[0m\u001b[1;33m(\u001b[0m\u001b[0mepoch\u001b[0m \u001b[1;33m+\u001b[0m \u001b[1;36m1\u001b[0m\u001b[1;33m)\u001b[0m\u001b[1;33m)\u001b[0m\u001b[1;33m\u001b[0m\u001b[1;33m\u001b[0m\u001b[0m\n\u001b[1;32m----> 4\u001b[1;33m     dtcr_model.train_step(train_dl, test_dl, recons_criterion, classify_criterion,\n\u001b[0m\u001b[0;32m      5\u001b[0m                           optimizer)\n",
      "\u001b[1;32md:\\Works\\IDC\\Advanced Machine Learning\\Final\\AMLFinal\\Utilities\\DTCR.py\u001b[0m in \u001b[0;36mtrain_step\u001b[1;34m(self, train_dl, test_dl, recons_criterion, classify_criterion, optimizer)\u001b[0m\n\u001b[0;32m    117\u001b[0m \u001b[1;33m\u001b[0m\u001b[0m\n\u001b[0;32m    118\u001b[0m             \u001b[1;31m# Backwards of the network\u001b[0m\u001b[1;33m\u001b[0m\u001b[1;33m\u001b[0m\u001b[1;33m\u001b[0m\u001b[0m\n\u001b[1;32m--> 119\u001b[1;33m             \u001b[0mdtcr_loss\u001b[0m\u001b[1;33m.\u001b[0m\u001b[0mbackward\u001b[0m\u001b[1;33m(\u001b[0m\u001b[1;33m)\u001b[0m\u001b[1;33m\u001b[0m\u001b[1;33m\u001b[0m\u001b[0m\n\u001b[0m\u001b[0;32m    120\u001b[0m \u001b[1;33m\u001b[0m\u001b[0m\n\u001b[0;32m    121\u001b[0m             \u001b[1;31m# Optimization step\u001b[0m\u001b[1;33m\u001b[0m\u001b[1;33m\u001b[0m\u001b[1;33m\u001b[0m\u001b[0m\n",
      "\u001b[1;32mD:\\Anaconda3\\envs\\pytorch\\lib\\site-packages\\torch\\_tensor.py\u001b[0m in \u001b[0;36mbackward\u001b[1;34m(self, gradient, retain_graph, create_graph, inputs)\u001b[0m\n\u001b[0;32m    253\u001b[0m                 \u001b[0mcreate_graph\u001b[0m\u001b[1;33m=\u001b[0m\u001b[0mcreate_graph\u001b[0m\u001b[1;33m,\u001b[0m\u001b[1;33m\u001b[0m\u001b[1;33m\u001b[0m\u001b[0m\n\u001b[0;32m    254\u001b[0m                 inputs=inputs)\n\u001b[1;32m--> 255\u001b[1;33m         \u001b[0mtorch\u001b[0m\u001b[1;33m.\u001b[0m\u001b[0mautograd\u001b[0m\u001b[1;33m.\u001b[0m\u001b[0mbackward\u001b[0m\u001b[1;33m(\u001b[0m\u001b[0mself\u001b[0m\u001b[1;33m,\u001b[0m \u001b[0mgradient\u001b[0m\u001b[1;33m,\u001b[0m \u001b[0mretain_graph\u001b[0m\u001b[1;33m,\u001b[0m \u001b[0mcreate_graph\u001b[0m\u001b[1;33m,\u001b[0m \u001b[0minputs\u001b[0m\u001b[1;33m=\u001b[0m\u001b[0minputs\u001b[0m\u001b[1;33m)\u001b[0m\u001b[1;33m\u001b[0m\u001b[1;33m\u001b[0m\u001b[0m\n\u001b[0m\u001b[0;32m    256\u001b[0m \u001b[1;33m\u001b[0m\u001b[0m\n\u001b[0;32m    257\u001b[0m     \u001b[1;32mdef\u001b[0m \u001b[0mregister_hook\u001b[0m\u001b[1;33m(\u001b[0m\u001b[0mself\u001b[0m\u001b[1;33m,\u001b[0m \u001b[0mhook\u001b[0m\u001b[1;33m)\u001b[0m\u001b[1;33m:\u001b[0m\u001b[1;33m\u001b[0m\u001b[1;33m\u001b[0m\u001b[0m\n",
      "\u001b[1;32mD:\\Anaconda3\\envs\\pytorch\\lib\\site-packages\\torch\\autograd\\__init__.py\u001b[0m in \u001b[0;36mbackward\u001b[1;34m(tensors, grad_tensors, retain_graph, create_graph, grad_variables, inputs)\u001b[0m\n\u001b[0;32m    145\u001b[0m         \u001b[0mretain_graph\u001b[0m \u001b[1;33m=\u001b[0m \u001b[0mcreate_graph\u001b[0m\u001b[1;33m\u001b[0m\u001b[1;33m\u001b[0m\u001b[0m\n\u001b[0;32m    146\u001b[0m \u001b[1;33m\u001b[0m\u001b[0m\n\u001b[1;32m--> 147\u001b[1;33m     Variable._execution_engine.run_backward(\n\u001b[0m\u001b[0;32m    148\u001b[0m         \u001b[0mtensors\u001b[0m\u001b[1;33m,\u001b[0m \u001b[0mgrad_tensors_\u001b[0m\u001b[1;33m,\u001b[0m \u001b[0mretain_graph\u001b[0m\u001b[1;33m,\u001b[0m \u001b[0mcreate_graph\u001b[0m\u001b[1;33m,\u001b[0m \u001b[0minputs\u001b[0m\u001b[1;33m,\u001b[0m\u001b[1;33m\u001b[0m\u001b[1;33m\u001b[0m\u001b[0m\n\u001b[0;32m    149\u001b[0m         allow_unreachable=True, accumulate_grad=True)  # allow_unreachable flag\n",
      "\u001b[1;31mKeyboardInterrupt\u001b[0m: "
     ]
    }
   ],
   "metadata": {}
  }
 ],
 "metadata": {
  "interpreter": {
   "hash": "be203ce0b3afc4f5c37fbac412025d7ed1d67cabe9dd00b1fc8774c6d6d19d70"
  },
  "kernelspec": {
   "name": "python3",
   "display_name": "Python 3.8.11 64-bit ('pytorch': conda)"
  },
  "language_info": {
   "name": "python",
   "version": "3.8.11",
   "mimetype": "text/x-python",
   "codemirror_mode": {
    "name": "ipython",
    "version": 3
   },
   "pygments_lexer": "ipython3",
   "nbconvert_exporter": "python",
   "file_extension": ".py"
  },
  "orig_nbformat": 4
 },
 "nbformat": 4,
 "nbformat_minor": 2
}