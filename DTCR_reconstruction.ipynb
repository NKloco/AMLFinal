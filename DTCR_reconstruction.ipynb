{
 "cells": [
  {
   "cell_type": "markdown",
   "source": [
    "In this notebook I'll reconstruct the process and results of the DTCR algorithm presented in the \"Learning Representations for Time Series Clustering\"."
   ],
   "metadata": {}
  },
  {
   "cell_type": "code",
   "execution_count": 1,
   "source": [
    "# Imports\r\n",
    "import torch\r\n",
    "from torch.utils.data import DataLoader\r\n",
    "from Utilities.DTCR import DTCRModel, DTCRConfig\r\n",
    "from Utilities.UCRParser import read_dataset\r\n",
    "from Utilities.DRNN import BidirectionalDRNN"
   ],
   "outputs": [],
   "metadata": {}
  },
  {
   "cell_type": "code",
   "execution_count": 2,
   "source": [
    "train_ds, test_ds = read_dataset(\"Two_Patterns\")\r\n",
    "train_dl = DataLoader(train_ds, batch_size=100, shuffle=True)\r\n",
    "test_dl = DataLoader(test_ds, batch_size=2, shuffle=True)\r\n",
    "\r\n",
    "config = DTCRConfig()\r\n",
    "config.class_num = train_ds.number_of_labels\r\n",
    "config.input_size = train_ds[0][0].shape[1]\r\n",
    "config.num_steps = train_ds[0][0].shape[0]\r\n",
    "config.batch_size = 2\r\n"
   ],
   "outputs": [
    {
     "output_type": "stream",
     "name": "stdout",
     "text": [
      "Loading the Two_Patterns dataset...\n",
      "The dataset Two_Patterns was loaded.\n"
     ]
    }
   ],
   "metadata": {}
  },
  {
   "cell_type": "code",
   "execution_count": 3,
   "source": [
    "dtcr_model = DTCRModel(config)\r\n",
    "dtcr_model"
   ],
   "outputs": [],
   "metadata": {}
  },
  {
   "cell_type": "code",
   "execution_count": 6,
   "source": [
    "loss = torch.nn.MSELoss()\r\n",
    "opt = torch.optim.Adam(list(dtcr_model.parameters()), eps=5e-3)\r\n",
    "print_interval = 5\r\n",
    "for epoch in range(2):\r\n",
    "    running_loss = 0.0\r\n",
    "    for index, (sample_data, sample_label) in enumerate(train_dl):\r\n",
    "        opt.zero_grad()\r\n",
    "\r\n",
    "        inputs, latent_representation, reconstructed_inputs = dtcr_model(sample_data)\r\n",
    "        output = loss(reconstructed_inputs, sample_data)\r\n",
    "        output.backward()\r\n",
    "        opt.step()\r\n",
    "\r\n",
    "        running_loss += output.item()\r\n",
    "        if index % print_interval == print_interval - 1:\r\n",
    "            print('[%d, %5d] loss: %.3f' %\r\n",
    "                (epoch + 1, index + 1, running_loss / print_interval))\r\n",
    "            print(\"Real values:\")\r\n",
    "            print(\",\".join([\"{:.2f}\".format(float(item)) for item in inputs[0]][:15]))\r\n",
    "            print(\"Latent representation:\")\r\n",
    "            print(\",\".join([\"{:.2f}\".format(float(item)) for item in latent_representation[0]][:15]))\r\n",
    "            print(\"Predicted:\")\r\n",
    "            print(\",\".join([\"{:.2f}\".format(float(item)) for item in reconstructed_inputs[0]][:15]))\r\n",
    "            \r\n",
    "            running_loss = 0.0\r\n"
   ],
   "outputs": [
    {
     "output_type": "stream",
     "name": "stdout",
     "text": [
      "[1,     5] loss: 0.998\n",
      "Real values:\n",
      "-0.12,-0.07,0.03,0.20,-0.67,-0.22,0.61,-0.28,0.16,0.32,0.27,0.22,-0.05,-0.34,0.36\n",
      "Latent representation:\n",
      "-0.03,0.05,0.14,-0.09,0.15,-0.00,-0.02,0.00,0.05,-0.03,0.03,0.06,-0.03,0.07,0.07\n",
      "Predicted:\n",
      "-0.07,-0.04,0.01,0.04,0.05,0.05,0.05,0.04,0.03,0.03,0.03,0.03,0.02,0.02,0.03\n",
      "[1,    10] loss: 0.993\n",
      "Real values:\n",
      "0.04,-0.25,-0.04,-0.87,-0.45,0.40,0.55,-0.36,0.19,0.31,-0.60,-0.35,0.51,0.38,0.26\n",
      "Latent representation:\n",
      "-0.02,0.07,0.13,-0.07,0.14,-0.03,-0.05,0.02,0.05,-0.02,0.04,0.06,-0.02,0.08,0.03\n",
      "Predicted:\n",
      "-0.01,-0.02,-0.02,-0.01,-0.00,-0.01,-0.01,-0.01,-0.02,-0.02,-0.02,-0.03,-0.03,-0.03,-0.03\n",
      "[2,     5] loss: 0.992\n",
      "Real values:\n",
      "0.32,0.21,-0.41,0.16,0.22,0.21,-0.42,-0.37,0.12,-0.97,-0.02,-0.00,-0.45,0.09,-0.18\n",
      "Latent representation:\n",
      "-0.00,0.08,0.13,-0.05,0.12,-0.04,-0.07,0.02,0.04,-0.01,0.04,0.08,-0.00,0.08,0.01\n",
      "Predicted:\n",
      "0.08,0.05,0.04,0.03,0.03,0.02,0.02,0.02,0.01,0.01,0.01,0.01,0.01,0.01,0.01\n",
      "[2,    10] loss: 0.991\n",
      "Real values:\n",
      "-0.64,-0.14,-0.25,-0.30,0.21,0.24,-0.20,-0.22,-0.01,-0.20,-0.09,0.78,-0.22,0.00,0.16\n",
      "Latent representation:\n",
      "0.01,0.09,0.12,-0.03,0.11,-0.01,-0.08,0.01,0.04,-0.01,0.04,0.10,-0.00,0.07,0.01\n",
      "Predicted:\n",
      "0.04,0.02,0.02,0.02,0.02,0.02,0.02,0.02,0.02,0.02,0.01,0.01,0.01,0.01,0.00\n"
     ]
    }
   ],
   "metadata": {}
  }
 ],
 "metadata": {
  "interpreter": {
   "hash": "edcda8d2a73236de09051cdde745a65eb7ed2a749b88f01ef4a8b567e29cd136"
  },
  "kernelspec": {
   "name": "python3",
   "display_name": "Python 3.7.11 64-bit ('NLP': conda)"
  },
  "language_info": {
   "name": "python",
   "version": "3.7.11",
   "mimetype": "text/x-python",
   "codemirror_mode": {
    "name": "ipython",
    "version": 3
   },
   "pygments_lexer": "ipython3",
   "nbconvert_exporter": "python",
   "file_extension": ".py"
  },
  "orig_nbformat": 4
 },
 "nbformat": 4,
 "nbformat_minor": 2
}