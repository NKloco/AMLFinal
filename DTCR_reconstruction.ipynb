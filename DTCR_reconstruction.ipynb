{
 "cells": [
  {
   "cell_type": "markdown",
   "source": [
    "In this notebook I'll reconstruct the process and results of the DTCR algorithm presented in the \"Learning Representations for Time Series Clustering\"."
   ],
   "metadata": {}
  },
  {
   "cell_type": "code",
   "execution_count": 1,
   "source": [
    "# Imports\r\n",
    "import torch\r\n",
    "from torch.utils.data import DataLoader\r\n",
    "from Utilities.DTCR import DTCRModel, DTCRConfig\r\n",
    "from Utilities.UCRParser import read_dataset\r\n",
    "from Utilities.DRNN import BidirectionalDRNN"
   ],
   "outputs": [],
   "metadata": {}
  },
  {
   "cell_type": "code",
   "execution_count": 2,
   "source": [
    "train_ds, test_ds = read_dataset(\"BeetleFly\")\r\n",
    "bs = 2\r\n",
    "train_dl = DataLoader(train_ds, batch_size=bs, shuffle=True)\r\n",
    "test_dl = DataLoader(test_ds, batch_size=bs, shuffle=True)\r\n",
    "\r\n",
    "config = DTCRConfig()\r\n",
    "config.class_num = train_ds.number_of_labels\r\n",
    "config.input_size = train_ds[0][0].shape[1]\r\n",
    "config.num_steps = train_ds[0][0].shape[0]\r\n",
    "config.batch_size = bs\r\n"
   ],
   "outputs": [
    {
     "output_type": "stream",
     "name": "stdout",
     "text": [
      "Loading the BeetleFly dataset...\n",
      "The dataset BeetleFly was loaded.\n"
     ]
    }
   ],
   "metadata": {}
  },
  {
   "cell_type": "code",
   "execution_count": 3,
   "source": [
    "dtcr_model = DTCRModel(config)\r\n",
    "dtcr_model"
   ],
   "outputs": [
    {
     "output_type": "execute_result",
     "data": {
      "text/plain": [
       "DTCRModel(\n",
       "  (encoder): BidirectionalDRNN(\n",
       "    (_regular_drnn): DRNN(\n",
       "      (_layers): Sequential(\n",
       "        (0): GRU(1, 100, batch_first=True)\n",
       "        (1): GRU(100, 50, batch_first=True)\n",
       "        (2): GRU(50, 50, batch_first=True)\n",
       "      )\n",
       "    )\n",
       "    (_backwards_drnn): DRNN(\n",
       "      (_layers): Sequential(\n",
       "        (0): GRU(1, 100, batch_first=True)\n",
       "        (1): GRU(100, 50, batch_first=True)\n",
       "        (2): GRU(50, 50, batch_first=True)\n",
       "      )\n",
       "    )\n",
       "  )\n",
       "  (decoder): DTCRDecoder(\n",
       "    (_rnn): GRU(400, 400, batch_first=True)\n",
       "    (_linear): Linear(in_features=400, out_features=1, bias=True)\n",
       "  )\n",
       "  (classifier): Sequential(\n",
       "    (0): Linear(in_features=400, out_features=128, bias=True)\n",
       "    (1): ReLU()\n",
       "    (2): Linear(in_features=128, out_features=2, bias=True)\n",
       "    (3): Softmax(dim=1)\n",
       "  )\n",
       ")"
      ]
     },
     "metadata": {},
     "execution_count": 3
    }
   ],
   "metadata": {}
  },
  {
   "cell_type": "code",
   "execution_count": 4,
   "source": [
    "for epoch in range(50):\r\n",
    "    print(\"Starting epoch {}:\".format(epoch + 1))\r\n",
    "    dtcr_model.train_step(train_dl, test_dl)"
   ],
   "outputs": [
    {
     "output_type": "stream",
     "name": "stdout",
     "text": [
      "Starting epoch 1:\n",
      "[5] loss: 1.6917499780654908, classify: 0.6933663964271546, recons: 0.9983835458755493\n",
      "[10] loss: 1.6895501613616943, classify: 0.6933282494544983, recons: 0.996221911907196\n",
      "Starting epoch 2:\n",
      "[5] loss: 1.6881814002990723, classify: 0.6932696342468262, recons: 0.9949117422103881\n",
      "[10] loss: 1.6876116752624513, classify: 0.6932268619537354, recons: 0.9943848013877868\n",
      "Starting epoch 3:\n"
     ]
    },
    {
     "output_type": "error",
     "ename": "KeyboardInterrupt",
     "evalue": "",
     "traceback": [
      "\u001b[1;31m---------------------------------------------------------------------------\u001b[0m",
      "\u001b[1;31mKeyboardInterrupt\u001b[0m                         Traceback (most recent call last)",
      "\u001b[1;32m~\\AppData\\Local\\Temp/ipykernel_19724/3837792957.py\u001b[0m in \u001b[0;36m<module>\u001b[1;34m\u001b[0m\n\u001b[0;32m      1\u001b[0m \u001b[1;32mfor\u001b[0m \u001b[0mepoch\u001b[0m \u001b[1;32min\u001b[0m \u001b[0mrange\u001b[0m\u001b[1;33m(\u001b[0m\u001b[1;36m50\u001b[0m\u001b[1;33m)\u001b[0m\u001b[1;33m:\u001b[0m\u001b[1;33m\u001b[0m\u001b[1;33m\u001b[0m\u001b[0m\n\u001b[0;32m      2\u001b[0m     \u001b[0mprint\u001b[0m\u001b[1;33m(\u001b[0m\u001b[1;34m\"Starting epoch {}:\"\u001b[0m\u001b[1;33m.\u001b[0m\u001b[0mformat\u001b[0m\u001b[1;33m(\u001b[0m\u001b[0mepoch\u001b[0m \u001b[1;33m+\u001b[0m \u001b[1;36m1\u001b[0m\u001b[1;33m)\u001b[0m\u001b[1;33m)\u001b[0m\u001b[1;33m\u001b[0m\u001b[1;33m\u001b[0m\u001b[0m\n\u001b[1;32m----> 3\u001b[1;33m     \u001b[0mdtcr_model\u001b[0m\u001b[1;33m.\u001b[0m\u001b[0mtrain_step\u001b[0m\u001b[1;33m(\u001b[0m\u001b[0mtrain_dl\u001b[0m\u001b[1;33m,\u001b[0m \u001b[0mtest_dl\u001b[0m\u001b[1;33m)\u001b[0m\u001b[1;33m\u001b[0m\u001b[1;33m\u001b[0m\u001b[0m\n\u001b[0m",
      "\u001b[1;32md:\\Works\\IDC\\Advanced Machine Learning\\Final\\AMLFinal\\Utilities\\DTCR.py\u001b[0m in \u001b[0;36mtrain_step\u001b[1;34m(self, train_dl, test_dl)\u001b[0m\n\u001b[0;32m     88\u001b[0m             \u001b[0mrunning_classify_loss\u001b[0m \u001b[1;33m+=\u001b[0m \u001b[0mclassify_loss\u001b[0m\u001b[1;33m.\u001b[0m\u001b[0mitem\u001b[0m\u001b[1;33m(\u001b[0m\u001b[1;33m)\u001b[0m\u001b[1;33m\u001b[0m\u001b[1;33m\u001b[0m\u001b[0m\n\u001b[0;32m     89\u001b[0m             \u001b[0mdtcr_loss\u001b[0m \u001b[1;33m=\u001b[0m \u001b[0mrecons_loss\u001b[0m \u001b[1;33m+\u001b[0m \u001b[0mclassify_loss\u001b[0m\u001b[1;33m\u001b[0m\u001b[1;33m\u001b[0m\u001b[0m\n\u001b[1;32m---> 90\u001b[1;33m             \u001b[0mdtcr_loss\u001b[0m\u001b[1;33m.\u001b[0m\u001b[0mbackward\u001b[0m\u001b[1;33m(\u001b[0m\u001b[1;33m)\u001b[0m\u001b[1;33m\u001b[0m\u001b[1;33m\u001b[0m\u001b[0m\n\u001b[0m\u001b[0;32m     91\u001b[0m             \u001b[0moptimizer\u001b[0m\u001b[1;33m.\u001b[0m\u001b[0mstep\u001b[0m\u001b[1;33m(\u001b[0m\u001b[1;33m)\u001b[0m\u001b[1;33m\u001b[0m\u001b[1;33m\u001b[0m\u001b[0m\n\u001b[0;32m     92\u001b[0m \u001b[1;33m\u001b[0m\u001b[0m\n",
      "\u001b[1;32mD:\\Anaconda3\\envs\\NLP\\lib\\site-packages\\torch\\tensor.py\u001b[0m in \u001b[0;36mbackward\u001b[1;34m(self, gradient, retain_graph, create_graph)\u001b[0m\n\u001b[0;32m    183\u001b[0m                 \u001b[0mproducts\u001b[0m\u001b[1;33m.\u001b[0m \u001b[0mDefaults\u001b[0m \u001b[0mto\u001b[0m\u001b[0;31m \u001b[0m\u001b[0;31m`\u001b[0m\u001b[0;31m`\u001b[0m\u001b[1;32mFalse\u001b[0m\u001b[0;31m`\u001b[0m\u001b[0;31m`\u001b[0m\u001b[1;33m.\u001b[0m\u001b[1;33m\u001b[0m\u001b[1;33m\u001b[0m\u001b[0m\n\u001b[0;32m    184\u001b[0m         \"\"\"\n\u001b[1;32m--> 185\u001b[1;33m         \u001b[0mtorch\u001b[0m\u001b[1;33m.\u001b[0m\u001b[0mautograd\u001b[0m\u001b[1;33m.\u001b[0m\u001b[0mbackward\u001b[0m\u001b[1;33m(\u001b[0m\u001b[0mself\u001b[0m\u001b[1;33m,\u001b[0m \u001b[0mgradient\u001b[0m\u001b[1;33m,\u001b[0m \u001b[0mretain_graph\u001b[0m\u001b[1;33m,\u001b[0m \u001b[0mcreate_graph\u001b[0m\u001b[1;33m)\u001b[0m\u001b[1;33m\u001b[0m\u001b[1;33m\u001b[0m\u001b[0m\n\u001b[0m\u001b[0;32m    186\u001b[0m \u001b[1;33m\u001b[0m\u001b[0m\n\u001b[0;32m    187\u001b[0m     \u001b[1;32mdef\u001b[0m \u001b[0mregister_hook\u001b[0m\u001b[1;33m(\u001b[0m\u001b[0mself\u001b[0m\u001b[1;33m,\u001b[0m \u001b[0mhook\u001b[0m\u001b[1;33m)\u001b[0m\u001b[1;33m:\u001b[0m\u001b[1;33m\u001b[0m\u001b[1;33m\u001b[0m\u001b[0m\n",
      "\u001b[1;32mD:\\Anaconda3\\envs\\NLP\\lib\\site-packages\\torch\\autograd\\__init__.py\u001b[0m in \u001b[0;36mbackward\u001b[1;34m(tensors, grad_tensors, retain_graph, create_graph, grad_variables)\u001b[0m\n\u001b[0;32m    125\u001b[0m     Variable._execution_engine.run_backward(\n\u001b[0;32m    126\u001b[0m         \u001b[0mtensors\u001b[0m\u001b[1;33m,\u001b[0m \u001b[0mgrad_tensors\u001b[0m\u001b[1;33m,\u001b[0m \u001b[0mretain_graph\u001b[0m\u001b[1;33m,\u001b[0m \u001b[0mcreate_graph\u001b[0m\u001b[1;33m,\u001b[0m\u001b[1;33m\u001b[0m\u001b[1;33m\u001b[0m\u001b[0m\n\u001b[1;32m--> 127\u001b[1;33m         allow_unreachable=True)  # allow_unreachable flag\n\u001b[0m\u001b[0;32m    128\u001b[0m \u001b[1;33m\u001b[0m\u001b[0m\n\u001b[0;32m    129\u001b[0m \u001b[1;33m\u001b[0m\u001b[0m\n",
      "\u001b[1;31mKeyboardInterrupt\u001b[0m: "
     ]
    }
   ],
   "metadata": {}
  },
  {
   "cell_type": "code",
   "execution_count": 5,
   "source": [
    "for name, param in dtcr_model.named_parameters():\r\n",
    "    print(name, param.grad.norm())"
   ],
   "outputs": [
    {
     "output_type": "stream",
     "name": "stdout",
     "text": [
      "encoder._regular_drnn._layers.0.weight_ih_l0 tensor(0.0151)\n",
      "encoder._regular_drnn._layers.0.weight_hh_l0 tensor(0.0045)\n",
      "encoder._regular_drnn._layers.0.bias_ih_l0 tensor(0.0073)\n",
      "encoder._regular_drnn._layers.0.bias_hh_l0 tensor(0.0036)\n",
      "encoder._regular_drnn._layers.1.weight_ih_l0 tensor(0.0051)\n",
      "encoder._regular_drnn._layers.1.weight_hh_l0 tensor(0.0017)\n",
      "encoder._regular_drnn._layers.1.bias_ih_l0 tensor(0.0046)\n",
      "encoder._regular_drnn._layers.1.bias_hh_l0 tensor(0.0023)\n",
      "encoder._regular_drnn._layers.2.weight_ih_l0 tensor(0.0021)\n",
      "encoder._regular_drnn._layers.2.weight_hh_l0 tensor(0.0009)\n",
      "encoder._regular_drnn._layers.2.bias_ih_l0 tensor(0.0028)\n",
      "encoder._regular_drnn._layers.2.bias_hh_l0 tensor(0.0014)\n",
      "encoder._backwards_drnn._layers.0.weight_ih_l0 tensor(0.0109)\n",
      "encoder._backwards_drnn._layers.0.weight_hh_l0 tensor(0.0029)\n",
      "encoder._backwards_drnn._layers.0.bias_ih_l0 tensor(0.0052)\n",
      "encoder._backwards_drnn._layers.0.bias_hh_l0 tensor(0.0026)\n",
      "encoder._backwards_drnn._layers.1.weight_ih_l0 tensor(0.0039)\n",
      "encoder._backwards_drnn._layers.1.weight_hh_l0 tensor(0.0016)\n",
      "encoder._backwards_drnn._layers.1.bias_ih_l0 tensor(0.0039)\n",
      "encoder._backwards_drnn._layers.1.bias_hh_l0 tensor(0.0019)\n",
      "encoder._backwards_drnn._layers.2.weight_ih_l0 tensor(0.0029)\n",
      "encoder._backwards_drnn._layers.2.weight_hh_l0 tensor(0.0010)\n",
      "encoder._backwards_drnn._layers.2.bias_ih_l0 tensor(0.0037)\n",
      "encoder._backwards_drnn._layers.2.bias_hh_l0 tensor(0.0018)\n",
      "decoder._rnn.weight_ih_l0 tensor(0.0456)\n",
      "decoder._rnn.weight_hh_l0 tensor(0.0253)\n",
      "decoder._rnn.bias_ih_l0 tensor(0.0179)\n",
      "decoder._rnn.bias_hh_l0 tensor(0.0090)\n",
      "decoder._linear.weight tensor(0.0384)\n",
      "decoder._linear.bias tensor(0.0286)\n",
      "classifier.0.weight tensor(0.0037)\n",
      "classifier.0.bias tensor(0.0019)\n",
      "classifier.2.weight tensor(0.0026)\n",
      "classifier.2.bias tensor(0.0047)\n"
     ]
    }
   ],
   "metadata": {}
  },
  {
   "cell_type": "code",
   "execution_count": null,
   "source": [
    "[x for x in range(7)[3::4]]"
   ],
   "outputs": [
    {
     "output_type": "execute_result",
     "data": {
      "text/plain": [
       "[3]"
      ]
     },
     "metadata": {},
     "execution_count": 9
    }
   ],
   "metadata": {}
  }
 ],
 "metadata": {
  "interpreter": {
   "hash": "edcda8d2a73236de09051cdde745a65eb7ed2a749b88f01ef4a8b567e29cd136"
  },
  "kernelspec": {
   "name": "python3",
   "display_name": "Python 3.7.11 64-bit ('NLP': conda)"
  },
  "language_info": {
   "name": "python",
   "version": "3.7.11",
   "mimetype": "text/x-python",
   "codemirror_mode": {
    "name": "ipython",
    "version": 3
   },
   "pygments_lexer": "ipython3",
   "nbconvert_exporter": "python",
   "file_extension": ".py"
  },
  "orig_nbformat": 4
 },
 "nbformat": 4,
 "nbformat_minor": 2
}