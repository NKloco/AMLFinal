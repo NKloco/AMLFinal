{
 "cells": [
  {
   "cell_type": "markdown",
   "source": [
    "In this notebook I'll reconstruct the process and results of the DTCR algorithm presented in the \"Learning Representations for Time Series Clustering\"."
   ],
   "metadata": {}
  },
  {
   "cell_type": "code",
   "execution_count": 1,
   "source": [
    "# Imports\r\n",
    "import torch\r\n",
    "from torch.utils.data import DataLoader\r\n",
    "from Utilities.DTCR import DTCRModel, DTCRConfig\r\n",
    "from Utilities.UCRParser import read_dataset\r\n",
    "from Utilities.DRNN import BidirectionalDRNN"
   ],
   "outputs": [],
   "metadata": {}
  },
  {
   "cell_type": "code",
   "execution_count": 2,
   "source": [
    "train_ds, test_ds = read_dataset(\"BeetleFly\")\r\n",
    "bs = 1\r\n",
    "train_dl = DataLoader(train_ds, batch_size=bs, shuffle=True)\r\n",
    "test_dl = DataLoader(test_ds, batch_size=bs, shuffle=True)\r\n",
    "\r\n",
    "config = DTCRConfig()\r\n",
    "config.class_num = train_ds.number_of_labels\r\n",
    "config.input_size = train_ds[0][0].shape[1]\r\n",
    "config.num_steps = train_ds[0][0].shape[0]\r\n",
    "config.batch_size = bs\r\n"
   ],
   "outputs": [
    {
     "output_type": "stream",
     "name": "stdout",
     "text": [
      "Loading the BeetleFly dataset...\n",
      "The dataset BeetleFly was loaded.\n"
     ]
    }
   ],
   "metadata": {}
  },
  {
   "cell_type": "code",
   "execution_count": 3,
   "source": [
    "dtcr_model = DTCRModel(config)\r\n",
    "dtcr_model"
   ],
   "outputs": [
    {
     "output_type": "execute_result",
     "data": {
      "text/plain": [
       "DTCRModel(\n",
       "  (_encoder): BidirectionalDRNN(\n",
       "    (_regular_drnn): DRNN(\n",
       "      (cells): Sequential(\n",
       "        (0): GRU(1, 100)\n",
       "        (1): GRU(100, 50)\n",
       "        (2): GRU(50, 50)\n",
       "      )\n",
       "    )\n",
       "    (_backwards_drnn): DRNN(\n",
       "      (cells): Sequential(\n",
       "        (0): GRU(1, 100)\n",
       "        (1): GRU(100, 50)\n",
       "        (2): GRU(50, 50)\n",
       "      )\n",
       "    )\n",
       "  )\n",
       "  (_decoder): DTCRDecoder(\n",
       "    (_rnn): GRU(400, 400, batch_first=True)\n",
       "    (_linear): Linear(in_features=400, out_features=1, bias=True)\n",
       "  )\n",
       "  (_classifier): Sequential(\n",
       "    (0): Linear(in_features=400, out_features=128, bias=True)\n",
       "    (1): ReLU()\n",
       "    (2): Linear(in_features=128, out_features=2, bias=True)\n",
       "    (3): Softmax(dim=1)\n",
       "  )\n",
       ")"
      ]
     },
     "metadata": {},
     "execution_count": 3
    }
   ],
   "metadata": {}
  },
  {
   "cell_type": "code",
   "execution_count": 4,
   "source": [
    "for epoch in range(5):\r\n",
    "    print(\"Starting epoch {}:\".format(epoch))\r\n",
    "    dtcr_model.train_step(train_dl, test_dl)"
   ],
   "outputs": [
    {
     "output_type": "stream",
     "name": "stdout",
     "text": [
      "Starting epoch 0:\n",
      "[5] loss: 1.6920015573501588, classify: 0.6931971311569214, recons: 0.9988044381141663\n",
      "[10] loss: 1.690278697013855, classify: 0.6931753039360047, recons: 0.9971033930778503\n",
      "[15] loss: 1.6883286714553833, classify: 0.6931638360023499, recons: 0.9951648354530335\n",
      "[20] loss: 1.6862142086029053, classify: 0.6931536078453064, recons: 0.9930606126785279\n",
      "Starting epoch 1:\n",
      "[5] loss: 1.6857254266738892, classify: 0.6931505322456359, recons: 0.9925748825073242\n",
      "[10] loss: 1.6804604530334473, classify: 0.6931492567062378, recons: 0.9873111963272094\n",
      "[15] loss: 1.6851548910140992, classify: 0.6931482434272767, recons: 0.9920066952705383\n",
      "[20] loss: 1.676142120361328, classify: 0.6931474208831787, recons: 0.9829946994781494\n",
      "Starting epoch 2:\n",
      "[5] loss: 1.6779245615005494, classify: 0.6931476354598999, recons: 0.9847769141197205\n",
      "[10] loss: 1.6771124839782714, classify: 0.6931473612785339, recons: 0.9839651107788085\n",
      "[15] loss: 1.6693392515182495, classify: 0.6931472659111023, recons: 0.9761919856071473\n",
      "[20] loss: 1.6667430400848389, classify: 0.6931473255157471, recons: 0.9735957264900208\n",
      "Starting epoch 3:\n",
      "[5] loss: 1.6731411218643188, classify: 0.6931474208831787, recons: 0.9799937248229981\n",
      "[10] loss: 1.6661680936813354, classify: 0.693147611618042, recons: 0.9730204463005065\n",
      "[15] loss: 1.6696434497833252, classify: 0.6931473612785339, recons: 0.9764960527420044\n",
      "[20] loss: 1.6366350412368775, classify: 0.6931474208831787, recons: 0.9434875965118408\n",
      "Starting epoch 4:\n",
      "[5] loss: 1.6771541595458985, classify: 0.6931476831436157, recons: 0.9840065002441406\n",
      "[10] loss: 1.6670131921768188, classify: 0.6931473970413208, recons: 0.9738657951354981\n",
      "[15] loss: 1.659287118911743, classify: 0.6931473731994628, recons: 0.9661397337913513\n",
      "[20] loss: 1.644417691230774, classify: 0.6931473851203919, recons: 0.951270318031311\n"
     ]
    }
   ],
   "metadata": {}
  },
  {
   "cell_type": "code",
   "execution_count": 5,
   "source": [
    "for name, param in dtcr_model.named_parameters():\r\n",
    "    print(name, param.grad.norm())"
   ],
   "outputs": [
    {
     "output_type": "stream",
     "name": "stdout",
     "text": [
      "_encoder._regular_drnn.cells.0.weight_ih_l0 tensor(0.0056)\n",
      "_encoder._regular_drnn.cells.0.weight_hh_l0 tensor(0.0022)\n",
      "_encoder._regular_drnn.cells.0.bias_ih_l0 tensor(0.0042)\n",
      "_encoder._regular_drnn.cells.0.bias_hh_l0 tensor(0.0021)\n",
      "_encoder._regular_drnn.cells.1.weight_ih_l0 tensor(0.0021)\n",
      "_encoder._regular_drnn.cells.1.weight_hh_l0 tensor(0.0011)\n",
      "_encoder._regular_drnn.cells.1.bias_ih_l0 tensor(0.0026)\n",
      "_encoder._regular_drnn.cells.1.bias_hh_l0 tensor(0.0014)\n",
      "_encoder._regular_drnn.cells.2.weight_ih_l0 tensor(0.0019)\n",
      "_encoder._regular_drnn.cells.2.weight_hh_l0 tensor(0.0012)\n",
      "_encoder._regular_drnn.cells.2.bias_ih_l0 tensor(0.0023)\n",
      "_encoder._regular_drnn.cells.2.bias_hh_l0 tensor(0.0012)\n",
      "_encoder._backwards_drnn.cells.0.weight_ih_l0 tensor(0.0065)\n",
      "_encoder._backwards_drnn.cells.0.weight_hh_l0 tensor(0.0028)\n",
      "_encoder._backwards_drnn.cells.0.bias_ih_l0 tensor(0.0043)\n",
      "_encoder._backwards_drnn.cells.0.bias_hh_l0 tensor(0.0022)\n",
      "_encoder._backwards_drnn.cells.1.weight_ih_l0 tensor(0.0029)\n",
      "_encoder._backwards_drnn.cells.1.weight_hh_l0 tensor(0.0014)\n",
      "_encoder._backwards_drnn.cells.1.bias_ih_l0 tensor(0.0028)\n",
      "_encoder._backwards_drnn.cells.1.bias_hh_l0 tensor(0.0014)\n",
      "_encoder._backwards_drnn.cells.2.weight_ih_l0 tensor(0.0019)\n",
      "_encoder._backwards_drnn.cells.2.weight_hh_l0 tensor(0.0008)\n",
      "_encoder._backwards_drnn.cells.2.bias_ih_l0 tensor(0.0019)\n",
      "_encoder._backwards_drnn.cells.2.bias_hh_l0 tensor(0.0010)\n",
      "_decoder._rnn.weight_ih_l0 tensor(0.2996)\n",
      "_decoder._rnn.weight_hh_l0 tensor(0.1495)\n",
      "_decoder._rnn.bias_ih_l0 tensor(0.2081)\n",
      "_decoder._rnn.bias_hh_l0 tensor(0.1039)\n",
      "_decoder._linear.weight tensor(0.0587)\n",
      "_decoder._linear.bias tensor(0.0812)\n",
      "_classifier.0.weight tensor(0.0003)\n",
      "_classifier.0.bias tensor(0.0001)\n",
      "_classifier.2.weight tensor(0.0002)\n",
      "_classifier.2.bias tensor(0.0003)\n"
     ]
    }
   ],
   "metadata": {}
  }
 ],
 "metadata": {
  "interpreter": {
   "hash": "edcda8d2a73236de09051cdde745a65eb7ed2a749b88f01ef4a8b567e29cd136"
  },
  "kernelspec": {
   "name": "python3",
   "display_name": "Python 3.7.11 64-bit ('NLP': conda)"
  },
  "language_info": {
   "name": "python",
   "version": "3.7.11",
   "mimetype": "text/x-python",
   "codemirror_mode": {
    "name": "ipython",
    "version": 3
   },
   "pygments_lexer": "ipython3",
   "nbconvert_exporter": "python",
   "file_extension": ".py"
  },
  "orig_nbformat": 4
 },
 "nbformat": 4,
 "nbformat_minor": 2
}