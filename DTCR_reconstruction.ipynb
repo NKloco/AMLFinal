{
 "cells": [
  {
   "cell_type": "markdown",
   "source": [
    "In this notebook I'll reconstruct the process and results of the DTCR algorithm presented in the \"Learning Representations for Time Series Clustering\"."
   ],
   "metadata": {}
  },
  {
   "cell_type": "code",
   "execution_count": 1,
   "source": [
    "# Imports\r\n",
    "import torch\r\n",
    "from torch.utils.data import DataLoader\r\n",
    "from Utilities.DTCR import DTCRModel, DTCRConfig\r\n",
    "from Utilities.UCRParser import read_dataset\r\n",
    "from Utilities.DRNN import BidirectionalDRNN"
   ],
   "outputs": [],
   "metadata": {}
  },
  {
   "cell_type": "code",
   "execution_count": 2,
   "source": [
    "train_ds, test_ds = read_dataset(\"Two_Patterns\")\r\n",
    "bs = 100\r\n",
    "train_dl = DataLoader(train_ds, batch_size=bs, shuffle=True)\r\n",
    "test_dl = DataLoader(test_ds, batch_size=bs, shuffle=True)\r\n",
    "\r\n",
    "config = DTCRConfig()\r\n",
    "config.class_num = train_ds.number_of_labels\r\n",
    "config.input_size = train_ds[0][0].shape[1]\r\n",
    "config.num_steps = train_ds[0][0].shape[0]\r\n",
    "config.batch_size = bs\r\n"
   ],
   "outputs": [
    {
     "output_type": "stream",
     "name": "stdout",
     "text": [
      "Loading the Two_Patterns dataset...\n",
      "The dataset Two_Patterns was loaded.\n"
     ]
    }
   ],
   "metadata": {}
  },
  {
   "cell_type": "code",
   "execution_count": 3,
   "source": [
    "dtcr_model = DTCRModel(config)\r\n",
    "dtcr_model"
   ],
   "outputs": [
    {
     "output_type": "execute_result",
     "data": {
      "text/plain": [
       "DTCRModel(\n",
       "  (encoder): BidirectionalDRNN(\n",
       "    (_regular_drnn): DRNN(\n",
       "      (_layers): Sequential(\n",
       "        (0): GRU(1, 100, batch_first=True)\n",
       "        (1): GRU(100, 50, batch_first=True)\n",
       "        (2): GRU(50, 50, batch_first=True)\n",
       "      )\n",
       "    )\n",
       "    (_backwards_drnn): DRNN(\n",
       "      (_layers): Sequential(\n",
       "        (0): GRU(1, 100, batch_first=True)\n",
       "        (1): GRU(100, 50, batch_first=True)\n",
       "        (2): GRU(50, 50, batch_first=True)\n",
       "      )\n",
       "    )\n",
       "  )\n",
       "  (decoder): DTCRDecoder(\n",
       "    (_rnn): GRU(400, 400, batch_first=True)\n",
       "    (_linear): Linear(in_features=400, out_features=1, bias=True)\n",
       "  )\n",
       "  (classifier): Sequential(\n",
       "    (0): Linear(in_features=400, out_features=128, bias=True)\n",
       "    (1): ReLU()\n",
       "    (2): Linear(in_features=128, out_features=2, bias=True)\n",
       "    (3): Softmax(dim=1)\n",
       "  )\n",
       ")"
      ]
     },
     "metadata": {},
     "execution_count": 3
    }
   ],
   "metadata": {}
  },
  {
   "cell_type": "code",
   "execution_count": 4,
   "source": [
    "\r\n",
    "recons_criterion = config.decoding_criterion()\r\n",
    "classify_criterion = config.classifier_criterion()\r\n",
    "optimizer = config.optimizer(dtcr_model.parameters(),\r\n",
    "                             eps=config.learning_rate)\r\n",
    "for epoch in range(1000):\r\n",
    "    print(\"Starting epoch {}:\".format(epoch + 1))\r\n",
    "    dtcr_model.train_step(train_dl, test_dl, recons_criterion, classify_criterion,\r\n",
    "                          optimizer)"
   ],
   "outputs": [
    {
     "output_type": "stream",
     "name": "stdout",
     "text": [
      "Starting epoch 1:\n",
      "[5] loss: 1.6857592344284058, classify: 0.6935059189796448, recons: 0.9922533392906189\n",
      "[10] loss: 1.6856550931930543, classify: 0.6934138894081116, recons: 0.9922412037849426\n",
      "Starting epoch 2:\n",
      "[5] loss: 1.6855370283126831, classify: 0.6933412909507751, recons: 0.9921957135200501\n",
      "[10] loss: 1.6855499982833861, classify: 0.6932860255241394, recons: 0.9922639608383179\n",
      "Starting epoch 3:\n",
      "[5] loss: 1.68546781539917, classify: 0.6932450771331787, recons: 0.9922227382659912\n",
      "[10] loss: 1.6854221820831299, classify: 0.6932159304618836, recons: 0.9922062516212463\n",
      "Starting epoch 4:\n",
      "[5] loss: 1.6853947162628173, classify: 0.6931939840316772, recons: 0.9922006964683533\n",
      "[10] loss: 1.6853745222091674, classify: 0.6931786298751831, recons: 0.9921958923339844\n",
      "Starting epoch 5:\n",
      "[5] loss: 1.6853464603424073, classify: 0.6931681632995605, recons: 0.9921782851219177\n",
      "[10] loss: 1.685350728034973, classify: 0.6931610345840454, recons: 0.9921896815299988\n",
      "Starting epoch 6:\n",
      "[5] loss: 1.6853379964828492, classify: 0.6931561231613159, recons: 0.9921818971633911\n",
      "[10] loss: 1.6853209018707276, classify: 0.6931531190872192, recons: 0.9921677827835083\n",
      "Starting epoch 7:\n",
      "[5] loss: 1.685329270362854, classify: 0.69315105676651, recons: 0.992178201675415\n",
      "[10] loss: 1.6853000402450562, classify: 0.6931496262550354, recons: 0.9921504020690918\n",
      "Starting epoch 8:\n",
      "[5] loss: 1.685307550430298, classify: 0.6931486129760742, recons: 0.9921589493751526\n",
      "[10] loss: 1.6852951049804688, classify: 0.6931482672691345, recons: 0.9921468496322632\n",
      "Starting epoch 9:\n",
      "[5] loss: 1.6852783679962158, classify: 0.6931479811668396, recons: 0.9921303510665893\n",
      "[10] loss: 1.6852978706359862, classify: 0.6931477665901185, recons: 0.992150092124939\n",
      "Starting epoch 10:\n",
      "[5] loss: 1.6852837085723877, classify: 0.6931474804878235, recons: 0.9921361923217773\n",
      "[10] loss: 1.6852661609649657, classify: 0.6931474089622498, recons: 0.992118752002716\n",
      "Starting epoch 11:\n",
      "[5] loss: 1.685262966156006, classify: 0.6931475162506103, recons: 0.9921154975891113\n",
      "[10] loss: 1.685266923904419, classify: 0.6931475400924683, recons: 0.9921193838119506\n",
      "Starting epoch 12:\n",
      "[5] loss: 1.6852140188217164, classify: 0.6931473731994628, recons: 0.9920666337013244\n",
      "[10] loss: 1.6852920770645141, classify: 0.6931474208831787, recons: 0.9921446442604065\n",
      "Starting epoch 13:\n",
      "[5] loss: 1.6852589845657349, classify: 0.6931473731994628, recons: 0.9921115875244141\n",
      "[10] loss: 1.685222601890564, classify: 0.6931473731994628, recons: 0.9920752286911011\n",
      "Starting epoch 14:\n",
      "[5] loss: 1.6852709531784058, classify: 0.6931473731994628, recons: 0.9921235799789428\n",
      "[10] loss: 1.6851932048797607, classify: 0.693147349357605, recons: 0.9920458674430848\n",
      "Starting epoch 15:\n",
      "[5] loss: 1.685231351852417, classify: 0.6931473970413208, recons: 0.9920839309692383\n",
      "[10] loss: 1.6852139472961425, classify: 0.6931473612785339, recons: 0.9920665979385376\n",
      "Starting epoch 16:\n",
      "[5] loss: 1.6852003335952759, classify: 0.6931472778320312, recons: 0.9920530676841736\n",
      "[10] loss: 1.6852277517318726, classify: 0.6931474089622498, recons: 0.9920803427696228\n",
      "Starting epoch 17:\n",
      "[5] loss: 1.6851987838745117, classify: 0.6931474566459656, recons: 0.992051362991333\n",
      "[10] loss: 1.6852073669433594, classify: 0.6931473731994628, recons: 0.9920599818229675\n",
      "Starting epoch 18:\n",
      "[5] loss: 1.6852331161499023, classify: 0.6931473970413208, recons: 0.9920856833457947\n",
      "[10] loss: 1.6851499795913696, classify: 0.6931473016738892, recons: 0.9920026779174804\n",
      "Starting epoch 19:\n",
      "[5] loss: 1.6851703643798828, classify: 0.6931473851203919, recons: 0.9920229554176331\n",
      "[10] loss: 1.6851954698562621, classify: 0.6931474208831787, recons: 0.9920480489730835\n",
      "Starting epoch 20:\n",
      "[5] loss: 1.685122275352478, classify: 0.6931472659111023, recons: 0.9919750094413757\n",
      "[10] loss: 1.6852252721786498, classify: 0.6931473731994628, recons: 0.9920778870582581\n",
      "Starting epoch 21:\n",
      "[5] loss: 1.6851939916610719, classify: 0.6931474208831787, recons: 0.992046594619751\n",
      "[10] loss: 1.6851317167282105, classify: 0.6931472778320312, recons: 0.9919844627380371\n",
      "Starting epoch 22:\n",
      "[5] loss: 1.685198760032654, classify: 0.693147337436676, recons: 0.9920513868331909\n",
      "[10] loss: 1.6851104974746705, classify: 0.6931474089622498, recons: 0.9919630885124207\n",
      "Starting epoch 23:\n",
      "[5] loss: 1.6851056098937989, classify: 0.6931473970413208, recons: 0.991958224773407\n",
      "[10] loss: 1.6851876497268676, classify: 0.6931474089622498, recons: 0.9920402526855469\n",
      "Starting epoch 24:\n",
      "[5] loss: 1.6851250171661376, classify: 0.6931472659111023, recons: 0.9919777512550354\n",
      "[10] loss: 1.6851471662521362, classify: 0.6931474089622498, recons: 0.9919997453689575\n",
      "Starting epoch 25:\n",
      "[5] loss: 1.6851017236709596, classify: 0.6931473851203919, recons: 0.9919543504714966\n",
      "[10] loss: 1.6851534605026246, classify: 0.6931474447250366, recons: 0.9920060276985169\n",
      "Starting epoch 26:\n",
      "[5] loss: 1.685164213180542, classify: 0.693147349357605, recons: 0.9920168519020081\n",
      "[10] loss: 1.6850710391998291, classify: 0.6931473016738892, recons: 0.991923725605011\n",
      "Starting epoch 27:\n",
      "[5] loss: 1.6850829601287842, classify: 0.6931473016738892, recons: 0.9919356584548951\n",
      "[10] loss: 1.6851345539093017, classify: 0.6931473135948181, recons: 0.9919872522354126\n",
      "Starting epoch 28:\n",
      "[5] loss: 1.6850882768630981, classify: 0.6931474089622498, recons: 0.9919408559799194\n",
      "[10] loss: 1.6851082563400268, classify: 0.6931474208831787, recons: 0.9919608473777771\n",
      "Starting epoch 29:\n",
      "[5] loss: 1.685066294670105, classify: 0.6931474089622498, recons: 0.9919188857078552\n",
      "[10] loss: 1.6851123809814452, classify: 0.6931473612785339, recons: 0.9919649958610535\n",
      "Starting epoch 30:\n",
      "[5] loss: 1.6850967407226562, classify: 0.6931474328041076, recons: 0.9919493317604064\n",
      "[10] loss: 1.685063910484314, classify: 0.693147337436676, recons: 0.991916561126709\n",
      "Starting epoch 31:\n",
      "[5] loss: 1.685023880004883, classify: 0.6931473731994628, recons: 0.9918765187263489\n",
      "[10] loss: 1.6851149559020997, classify: 0.6931474328041076, recons: 0.9919675111770629\n",
      "Starting epoch 32:\n",
      "[5] loss: 1.6850532293319702, classify: 0.6931473255157471, recons: 0.9919058680534363\n",
      "[10] loss: 1.6850671291351318, classify: 0.6931473970413208, recons: 0.9919197201728821\n",
      "Starting epoch 33:\n",
      "[5] loss: 1.6849628210067749, classify: 0.693147349357605, recons: 0.9918154597282409\n",
      "[10] loss: 1.6851327896118165, classify: 0.6931474328041076, recons: 0.9919853568077087\n",
      "Starting epoch 34:\n",
      "[5] loss: 1.6851854085922242, classify: 0.6931472182273865, recons: 0.9920381903648376\n",
      "[10] loss: 1.6848901033401489, classify: 0.6931473970413208, recons: 0.9917427182197571\n",
      "Starting epoch 35:\n",
      "[5] loss: 1.6850091457366942, classify: 0.693147337436676, recons: 0.9918618083000184\n",
      "[10] loss: 1.6850422859191894, classify: 0.6931474089622498, recons: 0.9918948888778687\n",
      "Starting epoch 36:\n",
      "[5] loss: 1.6850029945373535, classify: 0.6931472301483155, recons: 0.991855788230896\n",
      "[10] loss: 1.6850281953811646, classify: 0.6931474089622498, recons: 0.9918807864189148\n",
      "Starting epoch 37:\n",
      "[5] loss: 1.6850459575653076, classify: 0.6931472897529602, recons: 0.9918986797332764\n",
      "[10] loss: 1.6849623918533325, classify: 0.6931473255157471, recons: 0.9918150663375854\n",
      "Starting epoch 38:\n",
      "[5] loss: 1.685003113746643, classify: 0.6931474566459656, recons: 0.9918556809425354\n",
      "[10] loss: 1.6849830627441407, classify: 0.6931474328041076, recons: 0.991835618019104\n",
      "Starting epoch 39:\n",
      "[5] loss: 1.6849257946014404, classify: 0.6931473851203919, recons: 0.9917784333229065\n",
      "[10] loss: 1.6850367307662963, classify: 0.6931473851203919, recons: 0.9918893456459046\n",
      "Starting epoch 40:\n",
      "[5] loss: 1.6850589990615845, classify: 0.6931473255157471, recons: 0.9919116497039795\n",
      "[10] loss: 1.6848771810531615, classify: 0.6931473255157471, recons: 0.9917298436164856\n",
      "Starting epoch 41:\n"
     ]
    },
    {
     "output_type": "error",
     "ename": "KeyboardInterrupt",
     "evalue": "",
     "traceback": [
      "\u001b[1;31m---------------------------------------------------------------------------\u001b[0m",
      "\u001b[1;31mKeyboardInterrupt\u001b[0m                         Traceback (most recent call last)",
      "\u001b[1;32m~\\AppData\\Local\\Temp/ipykernel_20348/1054510605.py\u001b[0m in \u001b[0;36m<module>\u001b[1;34m\u001b[0m\n\u001b[0;32m      6\u001b[0m     \u001b[0mprint\u001b[0m\u001b[1;33m(\u001b[0m\u001b[1;34m\"Starting epoch {}:\"\u001b[0m\u001b[1;33m.\u001b[0m\u001b[0mformat\u001b[0m\u001b[1;33m(\u001b[0m\u001b[0mepoch\u001b[0m \u001b[1;33m+\u001b[0m \u001b[1;36m1\u001b[0m\u001b[1;33m)\u001b[0m\u001b[1;33m)\u001b[0m\u001b[1;33m\u001b[0m\u001b[1;33m\u001b[0m\u001b[0m\n\u001b[0;32m      7\u001b[0m     dtcr_model.train_step(train_dl, test_dl, recons_criterion, classify_criterion,\n\u001b[1;32m----> 8\u001b[1;33m                           optimizer)\n\u001b[0m",
      "\u001b[1;32md:\\Works\\IDC\\Advanced Machine Learning\\Final\\AMLFinal\\Utilities\\DTCR.py\u001b[0m in \u001b[0;36mtrain_step\u001b[1;34m(self, train_dl, test_dl, recons_criterion, classify_criterion, optimizer)\u001b[0m\n\u001b[0;32m     81\u001b[0m             \u001b[0mclassify_loss\u001b[0m \u001b[1;33m=\u001b[0m \u001b[0mclassify_criterion\u001b[0m\u001b[1;33m(\u001b[0m\u001b[1;33m*\u001b[0m\u001b[0mclassified_outputs\u001b[0m\u001b[1;33m)\u001b[0m\u001b[1;33m\u001b[0m\u001b[1;33m\u001b[0m\u001b[0m\n\u001b[0;32m     82\u001b[0m \u001b[1;33m\u001b[0m\u001b[0m\n\u001b[1;32m---> 83\u001b[1;33m             \u001b[0mrunning_recons_loss\u001b[0m \u001b[1;33m+=\u001b[0m \u001b[0mrecons_loss\u001b[0m\u001b[1;33m.\u001b[0m\u001b[0mitem\u001b[0m\u001b[1;33m(\u001b[0m\u001b[1;33m)\u001b[0m\u001b[1;33m\u001b[0m\u001b[1;33m\u001b[0m\u001b[0m\n\u001b[0m\u001b[0;32m     84\u001b[0m             \u001b[0mrunning_classify_loss\u001b[0m \u001b[1;33m+=\u001b[0m \u001b[0mclassify_loss\u001b[0m\u001b[1;33m.\u001b[0m\u001b[0mitem\u001b[0m\u001b[1;33m(\u001b[0m\u001b[1;33m)\u001b[0m\u001b[1;33m\u001b[0m\u001b[1;33m\u001b[0m\u001b[0m\n\u001b[0;32m     85\u001b[0m             \u001b[0mdtcr_loss\u001b[0m \u001b[1;33m=\u001b[0m \u001b[0mrecons_loss\u001b[0m \u001b[1;33m+\u001b[0m \u001b[0mclassify_loss\u001b[0m\u001b[1;33m\u001b[0m\u001b[1;33m\u001b[0m\u001b[0m\n",
      "\u001b[1;32mD:\\Anaconda3\\envs\\NLP\\lib\\site-packages\\torch\\nn\\modules\\module.py\u001b[0m in \u001b[0;36m_call_impl\u001b[1;34m(self, *input, **kwargs)\u001b[0m\n\u001b[0;32m    720\u001b[0m             \u001b[0mresult\u001b[0m \u001b[1;33m=\u001b[0m \u001b[0mself\u001b[0m\u001b[1;33m.\u001b[0m\u001b[0m_slow_forward\u001b[0m\u001b[1;33m(\u001b[0m\u001b[1;33m*\u001b[0m\u001b[0minput\u001b[0m\u001b[1;33m,\u001b[0m \u001b[1;33m**\u001b[0m\u001b[0mkwargs\u001b[0m\u001b[1;33m)\u001b[0m\u001b[1;33m\u001b[0m\u001b[1;33m\u001b[0m\u001b[0m\n\u001b[0;32m    721\u001b[0m         \u001b[1;32melse\u001b[0m\u001b[1;33m:\u001b[0m\u001b[1;33m\u001b[0m\u001b[1;33m\u001b[0m\u001b[0m\n\u001b[1;32m--> 722\u001b[1;33m             \u001b[0mresult\u001b[0m \u001b[1;33m=\u001b[0m \u001b[0mself\u001b[0m\u001b[1;33m.\u001b[0m\u001b[0mforward\u001b[0m\u001b[1;33m(\u001b[0m\u001b[1;33m*\u001b[0m\u001b[0minput\u001b[0m\u001b[1;33m,\u001b[0m \u001b[1;33m**\u001b[0m\u001b[0mkwargs\u001b[0m\u001b[1;33m)\u001b[0m\u001b[1;33m\u001b[0m\u001b[1;33m\u001b[0m\u001b[0m\n\u001b[0m\u001b[0;32m    723\u001b[0m         for hook in itertools.chain(\n\u001b[0;32m    724\u001b[0m                 \u001b[0m_global_forward_hooks\u001b[0m\u001b[1;33m.\u001b[0m\u001b[0mvalues\u001b[0m\u001b[1;33m(\u001b[0m\u001b[1;33m)\u001b[0m\u001b[1;33m,\u001b[0m\u001b[1;33m\u001b[0m\u001b[1;33m\u001b[0m\u001b[0m\n",
      "\u001b[1;32md:\\Works\\IDC\\Advanced Machine Learning\\Final\\AMLFinal\\Utilities\\DTCR.py\u001b[0m in \u001b[0;36mforward\u001b[1;34m(self, inputs)\u001b[0m\n\u001b[0;32m    110\u001b[0m \u001b[1;33m\u001b[0m\u001b[0m\n\u001b[0;32m    111\u001b[0m         \u001b[1;32mreturn\u001b[0m \u001b[0minputs\u001b[0m\u001b[1;33m,\u001b[0m \u001b[0mlatent_repr\u001b[0m\u001b[1;33m,\u001b[0m \u001b[0mreconstructed_inputs\u001b[0m\u001b[1;33m,\u001b[0m \u001b[0mclassified_outputs\u001b[0m\u001b[1;33m\u001b[0m\u001b[1;33m\u001b[0m\u001b[0m\n\u001b[1;32m--> 112\u001b[1;33m \u001b[1;33m\u001b[0m\u001b[0m\n\u001b[0m\u001b[0;32m    113\u001b[0m     \u001b[1;32mdef\u001b[0m \u001b[0mencoder_forward\u001b[0m\u001b[1;33m(\u001b[0m\u001b[0mself\u001b[0m\u001b[1;33m,\u001b[0m \u001b[0minputs\u001b[0m\u001b[1;33m)\u001b[0m\u001b[1;33m:\u001b[0m\u001b[1;33m\u001b[0m\u001b[1;33m\u001b[0m\u001b[0m\n\u001b[0;32m    114\u001b[0m         \u001b[0moutput\u001b[0m\u001b[1;33m,\u001b[0m \u001b[0mhidden_outputs\u001b[0m \u001b[1;33m=\u001b[0m \u001b[0mself\u001b[0m\u001b[1;33m.\u001b[0m\u001b[0mencoder\u001b[0m\u001b[1;33m(\u001b[0m\u001b[0minputs\u001b[0m\u001b[1;33m)\u001b[0m\u001b[1;33m\u001b[0m\u001b[1;33m\u001b[0m\u001b[0m\n",
      "\u001b[1;32mD:\\Anaconda3\\envs\\NLP\\lib\\site-packages\\torch\\nn\\modules\\module.py\u001b[0m in \u001b[0;36m_call_impl\u001b[1;34m(self, *input, **kwargs)\u001b[0m\n\u001b[0;32m    720\u001b[0m             \u001b[0mresult\u001b[0m \u001b[1;33m=\u001b[0m \u001b[0mself\u001b[0m\u001b[1;33m.\u001b[0m\u001b[0m_slow_forward\u001b[0m\u001b[1;33m(\u001b[0m\u001b[1;33m*\u001b[0m\u001b[0minput\u001b[0m\u001b[1;33m,\u001b[0m \u001b[1;33m**\u001b[0m\u001b[0mkwargs\u001b[0m\u001b[1;33m)\u001b[0m\u001b[1;33m\u001b[0m\u001b[1;33m\u001b[0m\u001b[0m\n\u001b[0;32m    721\u001b[0m         \u001b[1;32melse\u001b[0m\u001b[1;33m:\u001b[0m\u001b[1;33m\u001b[0m\u001b[1;33m\u001b[0m\u001b[0m\n\u001b[1;32m--> 722\u001b[1;33m             \u001b[0mresult\u001b[0m \u001b[1;33m=\u001b[0m \u001b[0mself\u001b[0m\u001b[1;33m.\u001b[0m\u001b[0mforward\u001b[0m\u001b[1;33m(\u001b[0m\u001b[1;33m*\u001b[0m\u001b[0minput\u001b[0m\u001b[1;33m,\u001b[0m \u001b[1;33m**\u001b[0m\u001b[0mkwargs\u001b[0m\u001b[1;33m)\u001b[0m\u001b[1;33m\u001b[0m\u001b[1;33m\u001b[0m\u001b[0m\n\u001b[0m\u001b[0;32m    723\u001b[0m         for hook in itertools.chain(\n\u001b[0;32m    724\u001b[0m                 \u001b[0m_global_forward_hooks\u001b[0m\u001b[1;33m.\u001b[0m\u001b[0mvalues\u001b[0m\u001b[1;33m(\u001b[0m\u001b[1;33m)\u001b[0m\u001b[1;33m,\u001b[0m\u001b[1;33m\u001b[0m\u001b[1;33m\u001b[0m\u001b[0m\n",
      "\u001b[1;32md:\\Works\\IDC\\Advanced Machine Learning\\Final\\AMLFinal\\Utilities\\DTCR.py\u001b[0m in \u001b[0;36mforward\u001b[1;34m(self, inputs, hidden, predict_length)\u001b[0m\n\u001b[0;32m    205\u001b[0m \u001b[1;33m\u001b[0m\u001b[0m\n\u001b[0;32m    206\u001b[0m         \u001b[0mpredicted_series\u001b[0m \u001b[1;33m=\u001b[0m \u001b[0mtorch\u001b[0m\u001b[1;33m.\u001b[0m\u001b[0mcat\u001b[0m\u001b[1;33m(\u001b[0m\u001b[0mseries_prediction\u001b[0m\u001b[1;33m,\u001b[0m \u001b[0mdim\u001b[0m\u001b[1;33m=\u001b[0m\u001b[1;36m1\u001b[0m\u001b[1;33m)\u001b[0m\u001b[1;33m\u001b[0m\u001b[1;33m\u001b[0m\u001b[0m\n\u001b[1;32m--> 207\u001b[1;33m         \u001b[1;32mreturn\u001b[0m \u001b[0mpredicted_series\u001b[0m\u001b[1;33m\u001b[0m\u001b[1;33m\u001b[0m\u001b[0m\n\u001b[0m\u001b[0;32m    208\u001b[0m \u001b[1;33m\u001b[0m\u001b[0m\n\u001b[0;32m    209\u001b[0m \u001b[1;33m\u001b[0m\u001b[0m\n",
      "\u001b[1;32mD:\\Anaconda3\\envs\\NLP\\lib\\site-packages\\torch\\nn\\modules\\module.py\u001b[0m in \u001b[0;36m_call_impl\u001b[1;34m(self, *input, **kwargs)\u001b[0m\n\u001b[0;32m    720\u001b[0m             \u001b[0mresult\u001b[0m \u001b[1;33m=\u001b[0m \u001b[0mself\u001b[0m\u001b[1;33m.\u001b[0m\u001b[0m_slow_forward\u001b[0m\u001b[1;33m(\u001b[0m\u001b[1;33m*\u001b[0m\u001b[0minput\u001b[0m\u001b[1;33m,\u001b[0m \u001b[1;33m**\u001b[0m\u001b[0mkwargs\u001b[0m\u001b[1;33m)\u001b[0m\u001b[1;33m\u001b[0m\u001b[1;33m\u001b[0m\u001b[0m\n\u001b[0;32m    721\u001b[0m         \u001b[1;32melse\u001b[0m\u001b[1;33m:\u001b[0m\u001b[1;33m\u001b[0m\u001b[1;33m\u001b[0m\u001b[0m\n\u001b[1;32m--> 722\u001b[1;33m             \u001b[0mresult\u001b[0m \u001b[1;33m=\u001b[0m \u001b[0mself\u001b[0m\u001b[1;33m.\u001b[0m\u001b[0mforward\u001b[0m\u001b[1;33m(\u001b[0m\u001b[1;33m*\u001b[0m\u001b[0minput\u001b[0m\u001b[1;33m,\u001b[0m \u001b[1;33m**\u001b[0m\u001b[0mkwargs\u001b[0m\u001b[1;33m)\u001b[0m\u001b[1;33m\u001b[0m\u001b[1;33m\u001b[0m\u001b[0m\n\u001b[0m\u001b[0;32m    723\u001b[0m         for hook in itertools.chain(\n\u001b[0;32m    724\u001b[0m                 \u001b[0m_global_forward_hooks\u001b[0m\u001b[1;33m.\u001b[0m\u001b[0mvalues\u001b[0m\u001b[1;33m(\u001b[0m\u001b[1;33m)\u001b[0m\u001b[1;33m,\u001b[0m\u001b[1;33m\u001b[0m\u001b[1;33m\u001b[0m\u001b[0m\n",
      "\u001b[1;32mD:\\Anaconda3\\envs\\NLP\\lib\\site-packages\\torch\\nn\\modules\\linear.py\u001b[0m in \u001b[0;36mforward\u001b[1;34m(self, input)\u001b[0m\n\u001b[0;32m     89\u001b[0m \u001b[1;33m\u001b[0m\u001b[0m\n\u001b[0;32m     90\u001b[0m     \u001b[1;32mdef\u001b[0m \u001b[0mforward\u001b[0m\u001b[1;33m(\u001b[0m\u001b[0mself\u001b[0m\u001b[1;33m,\u001b[0m \u001b[0minput\u001b[0m\u001b[1;33m:\u001b[0m \u001b[0mTensor\u001b[0m\u001b[1;33m)\u001b[0m \u001b[1;33m->\u001b[0m \u001b[0mTensor\u001b[0m\u001b[1;33m:\u001b[0m\u001b[1;33m\u001b[0m\u001b[1;33m\u001b[0m\u001b[0m\n\u001b[1;32m---> 91\u001b[1;33m         \u001b[1;32mreturn\u001b[0m \u001b[0mF\u001b[0m\u001b[1;33m.\u001b[0m\u001b[0mlinear\u001b[0m\u001b[1;33m(\u001b[0m\u001b[0minput\u001b[0m\u001b[1;33m,\u001b[0m \u001b[0mself\u001b[0m\u001b[1;33m.\u001b[0m\u001b[0mweight\u001b[0m\u001b[1;33m,\u001b[0m \u001b[0mself\u001b[0m\u001b[1;33m.\u001b[0m\u001b[0mbias\u001b[0m\u001b[1;33m)\u001b[0m\u001b[1;33m\u001b[0m\u001b[1;33m\u001b[0m\u001b[0m\n\u001b[0m\u001b[0;32m     92\u001b[0m \u001b[1;33m\u001b[0m\u001b[0m\n\u001b[0;32m     93\u001b[0m     \u001b[1;32mdef\u001b[0m \u001b[0mextra_repr\u001b[0m\u001b[1;33m(\u001b[0m\u001b[0mself\u001b[0m\u001b[1;33m)\u001b[0m \u001b[1;33m->\u001b[0m \u001b[0mstr\u001b[0m\u001b[1;33m:\u001b[0m\u001b[1;33m\u001b[0m\u001b[1;33m\u001b[0m\u001b[0m\n",
      "\u001b[1;32mD:\\Anaconda3\\envs\\NLP\\lib\\site-packages\\torch\\nn\\functional.py\u001b[0m in \u001b[0;36mlinear\u001b[1;34m(input, weight, bias)\u001b[0m\n\u001b[0;32m   1674\u001b[0m         \u001b[0mret\u001b[0m \u001b[1;33m=\u001b[0m \u001b[0mtorch\u001b[0m\u001b[1;33m.\u001b[0m\u001b[0maddmm\u001b[0m\u001b[1;33m(\u001b[0m\u001b[0mbias\u001b[0m\u001b[1;33m,\u001b[0m \u001b[0minput\u001b[0m\u001b[1;33m,\u001b[0m \u001b[0mweight\u001b[0m\u001b[1;33m.\u001b[0m\u001b[0mt\u001b[0m\u001b[1;33m(\u001b[0m\u001b[1;33m)\u001b[0m\u001b[1;33m)\u001b[0m\u001b[1;33m\u001b[0m\u001b[1;33m\u001b[0m\u001b[0m\n\u001b[0;32m   1675\u001b[0m     \u001b[1;32melse\u001b[0m\u001b[1;33m:\u001b[0m\u001b[1;33m\u001b[0m\u001b[1;33m\u001b[0m\u001b[0m\n\u001b[1;32m-> 1676\u001b[1;33m         \u001b[0moutput\u001b[0m \u001b[1;33m=\u001b[0m \u001b[0minput\u001b[0m\u001b[1;33m.\u001b[0m\u001b[0mmatmul\u001b[0m\u001b[1;33m(\u001b[0m\u001b[0mweight\u001b[0m\u001b[1;33m.\u001b[0m\u001b[0mt\u001b[0m\u001b[1;33m(\u001b[0m\u001b[1;33m)\u001b[0m\u001b[1;33m)\u001b[0m\u001b[1;33m\u001b[0m\u001b[1;33m\u001b[0m\u001b[0m\n\u001b[0m\u001b[0;32m   1677\u001b[0m         \u001b[1;32mif\u001b[0m \u001b[0mbias\u001b[0m \u001b[1;32mis\u001b[0m \u001b[1;32mnot\u001b[0m \u001b[1;32mNone\u001b[0m\u001b[1;33m:\u001b[0m\u001b[1;33m\u001b[0m\u001b[1;33m\u001b[0m\u001b[0m\n\u001b[0;32m   1678\u001b[0m             \u001b[0moutput\u001b[0m \u001b[1;33m+=\u001b[0m \u001b[0mbias\u001b[0m\u001b[1;33m\u001b[0m\u001b[1;33m\u001b[0m\u001b[0m\n",
      "\u001b[1;31mKeyboardInterrupt\u001b[0m: "
     ]
    }
   ],
   "metadata": {}
  },
  {
   "cell_type": "code",
   "execution_count": null,
   "source": [
    "for name, param in dtcr_model.named_parameters():\r\n",
    "    print(name, param.grad.norm())"
   ],
   "outputs": [
    {
     "output_type": "stream",
     "name": "stdout",
     "text": [
      "encoder._regular_drnn._layers.0.weight_ih_l0 tensor(0.0151)\n",
      "encoder._regular_drnn._layers.0.weight_hh_l0 tensor(0.0045)\n",
      "encoder._regular_drnn._layers.0.bias_ih_l0 tensor(0.0073)\n",
      "encoder._regular_drnn._layers.0.bias_hh_l0 tensor(0.0036)\n",
      "encoder._regular_drnn._layers.1.weight_ih_l0 tensor(0.0051)\n",
      "encoder._regular_drnn._layers.1.weight_hh_l0 tensor(0.0017)\n",
      "encoder._regular_drnn._layers.1.bias_ih_l0 tensor(0.0046)\n",
      "encoder._regular_drnn._layers.1.bias_hh_l0 tensor(0.0023)\n",
      "encoder._regular_drnn._layers.2.weight_ih_l0 tensor(0.0021)\n",
      "encoder._regular_drnn._layers.2.weight_hh_l0 tensor(0.0009)\n",
      "encoder._regular_drnn._layers.2.bias_ih_l0 tensor(0.0028)\n",
      "encoder._regular_drnn._layers.2.bias_hh_l0 tensor(0.0014)\n",
      "encoder._backwards_drnn._layers.0.weight_ih_l0 tensor(0.0109)\n",
      "encoder._backwards_drnn._layers.0.weight_hh_l0 tensor(0.0029)\n",
      "encoder._backwards_drnn._layers.0.bias_ih_l0 tensor(0.0052)\n",
      "encoder._backwards_drnn._layers.0.bias_hh_l0 tensor(0.0026)\n",
      "encoder._backwards_drnn._layers.1.weight_ih_l0 tensor(0.0039)\n",
      "encoder._backwards_drnn._layers.1.weight_hh_l0 tensor(0.0016)\n",
      "encoder._backwards_drnn._layers.1.bias_ih_l0 tensor(0.0039)\n",
      "encoder._backwards_drnn._layers.1.bias_hh_l0 tensor(0.0019)\n",
      "encoder._backwards_drnn._layers.2.weight_ih_l0 tensor(0.0029)\n",
      "encoder._backwards_drnn._layers.2.weight_hh_l0 tensor(0.0010)\n",
      "encoder._backwards_drnn._layers.2.bias_ih_l0 tensor(0.0037)\n",
      "encoder._backwards_drnn._layers.2.bias_hh_l0 tensor(0.0018)\n",
      "decoder._rnn.weight_ih_l0 tensor(0.0456)\n",
      "decoder._rnn.weight_hh_l0 tensor(0.0253)\n",
      "decoder._rnn.bias_ih_l0 tensor(0.0179)\n",
      "decoder._rnn.bias_hh_l0 tensor(0.0090)\n",
      "decoder._linear.weight tensor(0.0384)\n",
      "decoder._linear.bias tensor(0.0286)\n",
      "classifier.0.weight tensor(0.0037)\n",
      "classifier.0.bias tensor(0.0019)\n",
      "classifier.2.weight tensor(0.0026)\n",
      "classifier.2.bias tensor(0.0047)\n"
     ]
    }
   ],
   "metadata": {}
  }
 ],
 "metadata": {
  "interpreter": {
   "hash": "edcda8d2a73236de09051cdde745a65eb7ed2a749b88f01ef4a8b567e29cd136"
  },
  "kernelspec": {
   "name": "python3",
   "display_name": "Python 3.7.11 64-bit ('NLP': conda)"
  },
  "language_info": {
   "name": "python",
   "version": "3.7.11",
   "mimetype": "text/x-python",
   "codemirror_mode": {
    "name": "ipython",
    "version": 3
   },
   "pygments_lexer": "ipython3",
   "nbconvert_exporter": "python",
   "file_extension": ".py"
  },
  "orig_nbformat": 4
 },
 "nbformat": 4,
 "nbformat_minor": 2
}