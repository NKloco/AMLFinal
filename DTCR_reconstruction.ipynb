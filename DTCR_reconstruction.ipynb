{
 "cells": [
  {
   "cell_type": "markdown",
   "source": [
    "In this notebook I'll reconstruct the process and results of the DTCR algorithm presented in the \"Learning Representations for Time Series Clustering\"."
   ],
   "metadata": {}
  },
  {
   "cell_type": "code",
   "execution_count": 1,
   "source": [
    "# Imports\r\n",
    "from torch.utils.data import DataLoader\r\n",
    "from Utilities.DTCR import DTCRModel, DTCRConfig\r\n",
    "from Utilities.UCRParser import read_dataset\r\n",
    "from Utilities.DRNN import BidirectionalDRNN"
   ],
   "outputs": [],
   "metadata": {}
  },
  {
   "cell_type": "code",
   "execution_count": 2,
   "source": [
    "train_ds, test_ds = read_dataset(\"Beef\")\r\n",
    "train_dl = DataLoader(train_ds, batch_size=2, shuffle=True)\r\n",
    "test_dl = DataLoader(test_ds, batch_size=2, shuffle=True)\r\n",
    "\r\n",
    "config = DTCRConfig()\r\n",
    "config.class_num = train_ds.number_of_labels\r\n",
    "config.input_size = train_ds[0][0].shape[1]\r\n",
    "config.num_steps = train_ds[0][0].shape[0]\r\n",
    "config.batch_size = 2\r\n"
   ],
   "outputs": [
    {
     "output_type": "stream",
     "name": "stdout",
     "text": [
      "Loading the Beef dataset...\n",
      "The dataset Beef was loaded.\n"
     ]
    }
   ],
   "metadata": {}
  },
  {
   "cell_type": "code",
   "execution_count": 3,
   "source": [
    "dtcr_model = DTCRModel(config)\r\n"
   ],
   "outputs": [],
   "metadata": {}
  },
  {
   "cell_type": "code",
   "execution_count": 4,
   "source": [
    "encoder = dtcr_model.encoder\r\n",
    "encoder\r\n"
   ],
   "outputs": [
    {
     "output_type": "execute_result",
     "data": {
      "text/plain": [
       "BidirectionalDRNN(\n",
       "  (_regular_drnn): DRNN(\n",
       "    (cells): Sequential(\n",
       "      (0): GRU(1, 100)\n",
       "      (1): GRU(100, 50)\n",
       "      (2): GRU(50, 50)\n",
       "    )\n",
       "  )\n",
       "  (_backwards_drnn): DRNN(\n",
       "    (cells): Sequential(\n",
       "      (0): GRU(1, 100)\n",
       "      (1): GRU(100, 50)\n",
       "      (2): GRU(50, 50)\n",
       "    )\n",
       "  )\n",
       ")"
      ]
     },
     "metadata": {},
     "execution_count": 4
    }
   ],
   "metadata": {}
  },
  {
   "cell_type": "code",
   "execution_count": 5,
   "source": [
    "for sample_data, sample_label in train_dl:\r\n",
    "    out, hidden = encoder(sample_data)\r\n",
    "    break\r\n"
   ],
   "outputs": [],
   "metadata": {}
  },
  {
   "cell_type": "code",
   "execution_count": 6,
   "source": [
    "print(\"sample shape: {}\".format(sample_data.shape))\r\n",
    "print(\"out shape: {}\".format(out.shape))\r\n",
    "print(\"hidden length: {}\".format(len(hidden)))\r\n",
    "for hidden_layer in range(len(hidden)):\r\n",
    "    print(\"hidden layer {} shape: {}\".format(hidden_layer,hidden[hidden_layer].shape))"
   ],
   "outputs": [
    {
     "output_type": "stream",
     "name": "stdout",
     "text": [
      "sample shape: torch.Size([2, 470, 1])\n",
      "out shape: torch.Size([2, 470, 100])\n",
      "hidden length: 6\n",
      "hidden layer 0 shape: torch.Size([1, 2, 100])\n",
      "hidden layer 1 shape: torch.Size([4, 2, 50])\n",
      "hidden layer 2 shape: torch.Size([16, 2, 50])\n",
      "hidden layer 3 shape: torch.Size([1, 2, 100])\n",
      "hidden layer 4 shape: torch.Size([4, 2, 50])\n",
      "hidden layer 5 shape: torch.Size([16, 2, 50])\n"
     ]
    }
   ],
   "metadata": {}
  }
 ],
 "metadata": {
  "interpreter": {
   "hash": "edcda8d2a73236de09051cdde745a65eb7ed2a749b88f01ef4a8b567e29cd136"
  },
  "kernelspec": {
   "name": "python3",
   "display_name": "Python 3.7.11 64-bit ('NLP': conda)"
  },
  "language_info": {
   "name": "python",
   "version": "3.7.11",
   "mimetype": "text/x-python",
   "codemirror_mode": {
    "name": "ipython",
    "version": 3
   },
   "pygments_lexer": "ipython3",
   "nbconvert_exporter": "python",
   "file_extension": ".py"
  },
  "orig_nbformat": 4
 },
 "nbformat": 4,
 "nbformat_minor": 2
}