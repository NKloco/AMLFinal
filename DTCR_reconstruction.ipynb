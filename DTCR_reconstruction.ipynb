{
 "cells": [
  {
   "cell_type": "markdown",
   "source": [
    "In this notebook I'll reconstruct the process and results of the DTCR algorithm presented in the \"Learning Representations for Time Series Clustering\"."
   ],
   "metadata": {}
  },
  {
   "cell_type": "code",
   "execution_count": 1,
   "source": [
    "# Imports\r\n",
    "import torch\r\n",
    "from torch.utils.data import DataLoader\r\n",
    "from Utilities.DTCR import DTCRModel, DTCRConfig\r\n",
    "from Utilities.UCRParser import read_dataset\r\n",
    "from Utilities.DRNN import BidirectionalDRNN"
   ],
   "outputs": [],
   "metadata": {}
  },
  {
   "cell_type": "code",
   "execution_count": 2,
   "source": [
    "train_ds, test_ds = read_dataset(\"Two_Patterns\")\r\n",
    "bs = 20\r\n",
    "train_dl = DataLoader(train_ds, batch_size=bs, shuffle=True)\r\n",
    "test_dl = DataLoader(test_ds, batch_size=bs, shuffle=True)\r\n",
    "\r\n",
    "config = DTCRConfig()\r\n",
    "config.class_num = train_ds.number_of_labels\r\n",
    "config.input_size = train_ds[0][0].shape[1]\r\n",
    "config.num_steps = train_ds[0][0].shape[0]\r\n",
    "config.batch_size = bs\r\n"
   ],
   "outputs": [
    {
     "output_type": "stream",
     "name": "stdout",
     "text": [
      "Loading the Two_Patterns dataset...\n",
      "The dataset Two_Patterns was loaded.\n"
     ]
    }
   ],
   "metadata": {}
  },
  {
   "cell_type": "code",
   "execution_count": 3,
   "source": [
    "dtcr_model = DTCRModel(config)\r\n",
    "dtcr_model"
   ],
   "outputs": [
    {
     "output_type": "execute_result",
     "data": {
      "text/plain": [
       "DTCRModel(\n",
       "  (_encoder): BidirectionalDRNN(\n",
       "    (_regular_drnn): DRNN(\n",
       "      (cells): Sequential(\n",
       "        (0): GRU(1, 100)\n",
       "        (1): GRU(100, 50)\n",
       "        (2): GRU(50, 50)\n",
       "      )\n",
       "    )\n",
       "    (_backwards_drnn): DRNN(\n",
       "      (cells): Sequential(\n",
       "        (0): GRU(1, 100)\n",
       "        (1): GRU(100, 50)\n",
       "        (2): GRU(50, 50)\n",
       "      )\n",
       "    )\n",
       "  )\n",
       "  (_decoder): DTCRDecoder(\n",
       "    (_rnn): GRU(400, 400, batch_first=True)\n",
       "    (_linear): Linear(in_features=400, out_features=1, bias=True)\n",
       "  )\n",
       "  (_classifier): Sequential(\n",
       "    (0): Linear(in_features=400, out_features=128, bias=True)\n",
       "    (1): ReLU()\n",
       "    (2): Linear(in_features=128, out_features=2, bias=True)\n",
       "    (3): Softmax(dim=1)\n",
       "  )\n",
       ")"
      ]
     },
     "metadata": {},
     "execution_count": 3
    }
   ],
   "metadata": {}
  },
  {
   "cell_type": "code",
   "execution_count": 4,
   "source": [
    "for epoch in range(5):\r\n",
    "    print(\"Starting epoch {}:\".format(epoch))\r\n",
    "    dtcr_model.train(train_dl, test_dl)"
   ],
   "outputs": [
    {
     "output_type": "stream",
     "name": "stdout",
     "text": [
      "Starting epoch 0:\n",
      "[5] loss: 1.685743808746338, classify: 0.6931547045707702, recons: 0.9925890922546386\n",
      "[10] loss: 1.6855220794677734, classify: 1.3863073110580444, recons: 1.984958577156067\n",
      "Starting epoch 1:\n",
      "[5] loss: 1.6853121519088745, classify: 0.6931510686874389, recons: 0.9921610593795777\n",
      "[10] loss: 1.6853063344955443, classify: 1.3863011837005614, recons: 1.9843173027038574\n",
      "Starting epoch 2:\n"
     ]
    }
   ],
   "metadata": {}
  }
 ],
 "metadata": {
  "interpreter": {
   "hash": "edcda8d2a73236de09051cdde745a65eb7ed2a749b88f01ef4a8b567e29cd136"
  },
  "kernelspec": {
   "name": "python3",
   "display_name": "Python 3.7.11 64-bit ('NLP': conda)"
  },
  "language_info": {
   "name": "python",
   "version": "3.7.11",
   "mimetype": "text/x-python",
   "codemirror_mode": {
    "name": "ipython",
    "version": 3
   },
   "pygments_lexer": "ipython3",
   "nbconvert_exporter": "python",
   "file_extension": ".py"
  },
  "orig_nbformat": 4
 },
 "nbformat": 4,
 "nbformat_minor": 2
}